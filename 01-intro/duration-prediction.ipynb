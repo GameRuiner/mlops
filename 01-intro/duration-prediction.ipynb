{
 "cells": [
  {
   "cell_type": "code",
   "execution_count": 41,
   "id": "286baee5-85a8-48f9-9605-f30ba8dfa61e",
   "metadata": {},
   "outputs": [],
   "source": [
    "import pandas as pd\n",
    "from sklearn.feature_extraction import DictVectorizer\n",
    "from sklearn.linear_model import LinearRegression\n",
    "from sklearn.metrics import mean_squared_error"
   ]
  },
  {
   "cell_type": "code",
   "execution_count": 46,
   "id": "850d716a-2727-4244-914e-416a82acbd28",
   "metadata": {},
   "outputs": [],
   "source": [
    "def read_dataframe(filename, verbose = False):\n",
    "    df = pd.read_parquet(filename)\n",
    "\n",
    "    #Q1\n",
    "    if verbose:\n",
    "        print(len(df.columns), 'columns')\n",
    "\n",
    "    df['duration'] = df.tpep_dropoff_datetime - df.tpep_pickup_datetime\n",
    "    df['duration'] = df.duration.apply(lambda td: td.total_seconds() / 60)\n",
    "\n",
    "    #Q2\n",
    "    if verbose:\n",
    "        print('Standard deviation of the trips duration', round(df.duration.std(), 2))\n",
    "\n",
    "    #Q3\n",
    "    df_full_len = len(df)\n",
    "    df = df[(df.duration >= 1) & (df.duration <= 60)]\n",
    "    if verbose:\n",
    "        print(f\"{round(len(df) / df_full_len * 100)}% of the records left\")\n",
    "    \n",
    "    categorical = ['PULocationID', 'DOLocationID']\n",
    "    \n",
    "    df[categorical] = df[categorical].astype(str)\n",
    "\n",
    "    return df\n"
   ]
  },
  {
   "cell_type": "code",
   "execution_count": 47,
   "id": "efcbd650-379e-42c2-8ce1-1002ea62212b",
   "metadata": {},
   "outputs": [
    {
     "name": "stdout",
     "output_type": "stream",
     "text": [
      "19 columns\n",
      "Standard deviation of the trips duration 42.59\n",
      "98% of the records left\n"
     ]
    }
   ],
   "source": [
    "df_train = read_dataframe('./data/yellow_tripdata_2023-01.parquet', True)"
   ]
  },
  {
   "cell_type": "code",
   "execution_count": 49,
   "id": "282e5baa-1475-4a21-b536-6438884c23b3",
   "metadata": {},
   "outputs": [],
   "source": [
    "categorical = ['PULocationID', 'DOLocationID']\n",
    "\n",
    "dv = DictVectorizer()\n",
    "\n",
    "train_dicts = df_train[categorical].to_dict(orient='records')\n",
    "X_train = dv.fit_transform(train_dicts)"
   ]
  },
  {
   "cell_type": "code",
   "execution_count": 35,
   "id": "a7bd7720-346e-49ee-b454-c2f142e7125b",
   "metadata": {},
   "outputs": [
    {
     "data": {
      "text/plain": [
       "'Number of columns 515'"
      ]
     },
     "execution_count": 35,
     "metadata": {},
     "output_type": "execute_result"
    }
   ],
   "source": [
    "#Q4\n",
    "f'Number of columns {X_train.get_shape()[1]}'"
   ]
  },
  {
   "cell_type": "code",
   "execution_count": 37,
   "id": "158952cc-c8de-4177-9dfa-40a87c4ddea3",
   "metadata": {},
   "outputs": [],
   "source": [
    "target = 'duration'\n",
    "y_train = df_train[target].values"
   ]
  },
  {
   "cell_type": "code",
   "execution_count": 45,
   "id": "875059ab-1d18-4a81-89a3-18de3287bd59",
   "metadata": {},
   "outputs": [
    {
     "data": {
      "text/plain": [
       "'RMSE on train 7.65'"
      ]
     },
     "execution_count": 45,
     "metadata": {},
     "output_type": "execute_result"
    }
   ],
   "source": [
    "lr = LinearRegression()\n",
    "lr.fit(X_train, y_train)\n",
    "\n",
    "y_pred = lr.predict(X_train)\n",
    "\n",
    "#Q5\n",
    "f'RMSE on train {round(mean_squared_error(y_train, y_pred, squared=False), 2)}'"
   ]
  },
  {
   "cell_type": "code",
   "execution_count": 51,
   "id": "cbaff02d-7440-41d2-87d8-6f0fdf0418d5",
   "metadata": {},
   "outputs": [
    {
     "data": {
      "text/plain": [
       "'RMSE on validation 7.81'"
      ]
     },
     "execution_count": 51,
     "metadata": {},
     "output_type": "execute_result"
    }
   ],
   "source": [
    "df_val = read_dataframe('./data/yellow_tripdata_2023-02.parquet')\n",
    "\n",
    "val_dicts = df_val[categorical].to_dict(orient='records')\n",
    "X_val = dv.transform(val_dicts)\n",
    "\n",
    "y_val = df_val[target].values\n",
    "\n",
    "y_pred = lr.predict(X_val)\n",
    "\n",
    "#Q5\n",
    "f'RMSE on validation {round(mean_squared_error(y_val, y_pred, squared=False), 2)}'"
   ]
  }
 ],
 "metadata": {
  "kernelspec": {
   "display_name": "Python 3 (ipykernel)",
   "language": "python",
   "name": "python3"
  },
  "language_info": {
   "codemirror_mode": {
    "name": "ipython",
    "version": 3
   },
   "file_extension": ".py",
   "mimetype": "text/x-python",
   "name": "python",
   "nbconvert_exporter": "python",
   "pygments_lexer": "ipython3",
   "version": "3.11.7"
  }
 },
 "nbformat": 4,
 "nbformat_minor": 5
}
